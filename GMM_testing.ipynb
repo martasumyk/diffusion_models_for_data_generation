{
  "cells": [
    {
      "cell_type": "code",
      "execution_count": 1,
      "metadata": {
        "id": "kJERQF6-3z_T"
      },
      "outputs": [],
      "source": [
        "import torch\n",
        "import torch.nn as nn\n",
        "\n",
        "import numpy as np\n",
        "import matplotlib.pyplot as plt\n",
        "\n",
        "from matplotlib.patches import Ellipse\n",
        "import torchvision.transforms as transforms\n",
        "import torchvision.datasets as datasets\n",
        "from torch.utils.data import DataLoader, Subset\n",
        "import torchvision\n",
        "\n",
        "import zipfile\n",
        "import os\n",
        "import shutil\n",
        "from typing import List, Tuple\n",
        "\n",
        "from sklearn.decomposition import PCA\n",
        "from sklearn.metrics import silhouette_score, davies_bouldin_score, calinski_harabasz_score\n",
        "from sklearn.metrics import pairwise_distances\n",
        "\n",
        "import umap"
      ]
    },
    {
      "cell_type": "markdown",
      "metadata": {
        "id": "cE3w19Uj3Vyu"
      },
      "source": [
        "The idea of using a Gaussian Mixture Model for testing is to split the data into subclasses within existing classes using a Gaussian Mixture Model. This is done to deal with the problem of high intra-class variance\n",
        "and small inter-cluster dissimilarity while evaluating the quality of the generated images."
      ]
    },
    {
      "cell_type": "markdown",
      "source": [
        "# Downloading the data"
      ],
      "metadata": {
        "id": "tPw3h9ixfR3X"
      }
    },
    {
      "cell_type": "code",
      "execution_count": 2,
      "metadata": {
        "id": "NKUMsXqX3ZeJ"
      },
      "outputs": [],
      "source": [
        "with zipfile.ZipFile(\"/content/minefree-class-split-wo-borders.zip\", 'r') as zip_ref:\n",
        "    zip_ref.extractall(\"data\")"
      ]
    },
    {
      "cell_type": "code",
      "execution_count": 3,
      "metadata": {
        "id": "GV_4-cYFH72e"
      },
      "outputs": [],
      "source": [
        "source_dirs = ['./data/minefree-class-split-wo-borders/test/bombed', './data/minefree-class-split-wo-borders/train/bombed']\n",
        "target_dir = './data/bombed'\n",
        "os.makedirs(target_dir, exist_ok=True)\n",
        "\n",
        "for src in source_dirs:\n",
        "    for file_name in os.listdir(src):\n",
        "        full_file_name = os.path.join(src, file_name)\n",
        "        if os.path.isfile(full_file_name):\n",
        "            shutil.copy(full_file_name, target_dir)"
      ]
    },
    {
      "cell_type": "code",
      "execution_count": 4,
      "metadata": {
        "id": "gUJ4FUj_IaxU"
      },
      "outputs": [],
      "source": [
        "source_dirs = ['./data/minefree-class-split-wo-borders/test/not bombed', './data/minefree-class-split-wo-borders/train/not bombed']\n",
        "target_dir = './data/not bombed'\n",
        "os.makedirs(target_dir, exist_ok=True)\n",
        "\n",
        "for src in source_dirs:\n",
        "    for file_name in os.listdir(src):\n",
        "        full_file_name = os.path.join(src, file_name)\n",
        "        if os.path.isfile(full_file_name):\n",
        "            shutil.copy(full_file_name, target_dir)"
      ]
    },
    {
      "cell_type": "markdown",
      "metadata": {
        "id": "NKsrFucR1wyo"
      },
      "source": [
        "# Gaussian Mixture Model"
      ]
    },
    {
      "cell_type": "code",
      "execution_count": 5,
      "metadata": {
        "id": "qqJ_0MClV7vM"
      },
      "outputs": [],
      "source": [
        "def make_positive_definite(S_k: torch.Tensor, eps: float = 1e-6) -> torch.Tensor:\n",
        "    S_k = 0.5 * (S_k + S_k.T)\n",
        "    # 2) get real eigenvalues\n",
        "    eigs = torch.linalg.eigvalsh(S_k)\n",
        "    min_eig = eigs.min()\n",
        "    # 3) if it’s already ≥ eps, do nothing; else shift by (eps - min_eig)\n",
        "    if min_eig < eps:\n",
        "        S_k = S_k + (eps - min_eig) * torch.eye(S_k.size(0), device=S_k.device)\n",
        "    return S_k"
      ]
    },
    {
      "cell_type": "code",
      "execution_count": 6,
      "metadata": {
        "id": "gSD_XivUV7vM"
      },
      "outputs": [],
      "source": [
        "import torch\n",
        "import torch.nn as nn\n",
        "import numpy as np\n",
        "from typing import List, Tuple\n",
        "\n",
        "\n",
        "def _to_tensor(array: np.ndarray) -> torch.Tensor:\n",
        "    return torch.from_numpy(np.array(array, dtype=np.float32))\n",
        "\n",
        "\n",
        "class MultivariateGaussian(nn.Module):\n",
        "    def __init__(\n",
        "        self,\n",
        "        dim: int,\n",
        "        mu: np.ndarray = None,\n",
        "        R: np.ndarray = None,\n",
        "        reg_covar: float = 1e-6,\n",
        "        eps: float = 1e-7\n",
        "    ):\n",
        "        super().__init__()\n",
        "        self.dim = dim\n",
        "        self.reg_covar = reg_covar\n",
        "        self.eps = eps\n",
        "\n",
        "        # Initialize mean vector\n",
        "        if mu is None:\n",
        "            mu = np.zeros(dim, dtype=np.float32)\n",
        "        else:\n",
        "            mu = mu.astype(np.float32)\n",
        "        self.mu = nn.Parameter(torch.from_numpy(mu))\n",
        "\n",
        "        # Initialize Cholesky factor R\n",
        "        if R is None:\n",
        "            L = torch.randn(dim, dim)\n",
        "            L = torch.tril(L)\n",
        "            L.diagonal().abs_().add_(self.eps + self.reg_covar)\n",
        "            self.R = nn.Parameter(L)\n",
        "        else:\n",
        "            R = R.astype(np.float32)\n",
        "            self.R = nn.Parameter(torch.from_numpy(R))\n",
        "\n",
        "    def Sigma(self) -> torch.Tensor:\n",
        "        return self.R @ self.R.T\n",
        "\n",
        "    def log_likelihood(self, x: torch.Tensor) -> torch.Tensor:\n",
        "        cov = self.Sigma()\n",
        "        # enforce symmetry\n",
        "        cov = (cov + cov.T) / 2\n",
        "        # sklearn-style: diagonal loading\n",
        "        eye = torch.eye(self.dim, device=cov.device, dtype=cov.dtype)\n",
        "        cov = cov + (self.reg_covar + self.eps) * eye\n",
        "\n",
        "        mvn = torch.distributions.MultivariateNormal(self.mu, covariance_matrix=cov)\n",
        "        return mvn.log_prob(x)\n",
        "\n",
        "    def sample(self, sample_shape=torch.Size()) -> torch.Tensor:\n",
        "        cov = self.Sigma()\n",
        "        cov = (cov + cov.T) / 2\n",
        "        eye = torch.eye(self.dim, device=cov.device, dtype=cov.dtype)\n",
        "        cov = cov + (self.reg_covar + self.eps) * eye\n",
        "        mvn = torch.distributions.MultivariateNormal(self.mu, covariance_matrix=cov)\n",
        "        return mvn.sample(sample_shape)\n",
        "\n",
        "\n",
        "def log_responsibilities(model: nn.Module, data: torch.Tensor) -> torch.Tensor:\n",
        "    priors = torch.softmax(model.prior, dim=0) if model.use_softmax else model.prior\n",
        "    log_priors = torch.log(priors + 1e-12)\n",
        "    comp_ll = [log_priors[i] + model.gaussians[i].log_likelihood(data) for i in range(model.K)]\n",
        "    nom = torch.stack(comp_ll, dim=0)\n",
        "    return nom - torch.logsumexp(nom, dim=0)\n",
        "\n",
        "\n",
        "class GaussianMixtureModel(nn.Module):\n",
        "    def __init__(\n",
        "        self,\n",
        "        dim: int,\n",
        "        K: int,\n",
        "        prior: np.ndarray = None,\n",
        "        mus: List[np.ndarray] = None,\n",
        "        sigmas: List[np.ndarray] = None,\n",
        "        use_softmax: bool = False,\n",
        "        reg_covar: float = 1e-6,\n",
        "        eps: float = 1e-7\n",
        "    ):\n",
        "        super().__init__()\n",
        "        self.dim = dim\n",
        "        self.K = K\n",
        "        self.use_softmax = use_softmax\n",
        "        self.reg_covar = reg_covar\n",
        "        self.eps = eps\n",
        "\n",
        "        self.gaussians = nn.ModuleList([\n",
        "            MultivariateGaussian(dim, mu=None, R=None, reg_covar=reg_covar, eps=eps)\n",
        "            for _ in range(K)\n",
        "        ])\n",
        "\n",
        "        self.set_params(prior, mus, sigmas)\n",
        "\n",
        "    @torch.no_grad()\n",
        "    def predict_proba(self, x: torch.Tensor) -> torch.Tensor:\n",
        "        log_r = log_responsibilities(self, x)\n",
        "        r = torch.exp(log_r)\n",
        "        return (r / r.sum(dim=0, keepdim=True)).T\n",
        "\n",
        "    @torch.no_grad()\n",
        "    def predict(self, x: torch.Tensor) -> torch.Tensor:\n",
        "        proba = self.predict_proba(x)\n",
        "        return proba.argmax(dim=1)\n",
        "\n",
        "    def set_params(\n",
        "        self,\n",
        "        prior: torch.Tensor | np.ndarray = None,\n",
        "        mus: List[torch.Tensor | np.ndarray] = None,\n",
        "        sigmas: List[torch.Tensor | np.ndarray] = None\n",
        "    ) -> None:\n",
        "        # Mixture weights\n",
        "        if prior is None:\n",
        "            p = np.full(self.K, 1.0 / self.K, dtype=np.float32)\n",
        "        else:\n",
        "            p = prior.detach().cpu().numpy().astype(np.float32) if isinstance(prior, torch.Tensor) else np.array(prior, dtype=np.float32)\n",
        "        self.prior = nn.Parameter(_to_tensor(p))\n",
        "\n",
        "        # Component means\n",
        "        if mus is not None:\n",
        "            for i, m in enumerate(mus):\n",
        "                m_t = m.detach().cpu().to(torch.float32) if isinstance(m, torch.Tensor) else _to_tensor(m)\n",
        "                self.gaussians[i].mu = nn.Parameter(m_t)\n",
        "\n",
        "        # Component covariances with robust cholesky\n",
        "        if sigmas is not None:\n",
        "            for i, S in enumerate(sigmas):\n",
        "                S_t = S.clone().to(torch.float32) if isinstance(S, torch.Tensor) else torch.from_numpy(np.array(S, dtype=np.float32))\n",
        "                cov = 0.5 * (S_t + S_t.T)\n",
        "                eye = torch.eye(self.dim, device=cov.device, dtype=cov.dtype)\n",
        "                cov = cov + (self.reg_covar + self.eps) * eye\n",
        "                # Try cholesky, increase jitter on failure\n",
        "                try:\n",
        "                    L = torch.linalg.cholesky(cov)\n",
        "                except RuntimeError:\n",
        "                    jitter = self.reg_covar + self.eps\n",
        "                    for _ in range(5):\n",
        "                        jitter *= 10\n",
        "                        cov_j = cov + jitter * eye\n",
        "                        try:\n",
        "                            L = torch.linalg.cholesky(cov_j)\n",
        "                            break\n",
        "                        except RuntimeError:\n",
        "                            continue\n",
        "                    else:\n",
        "                        raise RuntimeError(\"Covariance not PD even after jitter\")\n",
        "                self.gaussians[i].R = nn.Parameter(L)\n",
        "\n",
        "\n",
        "    def log_likelihood(self, x: torch.Tensor) -> torch.Tensor:\n",
        "        priors = torch.softmax(self.prior, dim=0) if self.use_softmax else self.prior\n",
        "        log_priors = torch.log(priors + 1e-12)\n",
        "        comp_ll = [log_priors[i] + self.gaussians[i].log_likelihood(x) for i in range(self.K)]\n",
        "        stacked = torch.stack(comp_ll, dim=0)\n",
        "        return torch.logsumexp(stacked, dim=0)\n",
        "\n",
        "    def sample(self) -> torch.Tensor:\n",
        "        prior = torch.softmax(self.prior, dim=0) if self.use_softmax else self.prior\n",
        "        idx = torch.distributions.Categorical(probs=prior).sample().item()\n",
        "        return self.gaussians[idx].sample()\n",
        "\n",
        "\n",
        "def update_params(model: GaussianMixtureModel, log_resp: torch.Tensor, data: np.ndarray):\n",
        "    # compute responsibilities and detach to avoid grad->numpy\n",
        "    resp = torch.exp(log_resp).clamp_min(1e-8).detach()\n",
        "    resp /= resp.sum(dim=0, keepdim=True)\n",
        "    N_k = resp.sum(dim=1).clamp_min(1e-6)\n",
        "\n",
        "    # convert data once to torch tensor\n",
        "    X = torch.tensor(data, dtype=torch.float32, device=resp.device)\n",
        "\n",
        "    priors = N_k / X.size(0)\n",
        "    mus, sigmas = [], []\n",
        "    for k in range(model.K):\n",
        "        r_k = resp[k].unsqueeze(1)  # (N,1)\n",
        "        mu_k = (r_k * X).sum(dim=0) / N_k[k]\n",
        "        mus.append(mu_k)\n",
        "\n",
        "        diff = X - mu_k\n",
        "        S_k = (r_k * diff).T @ diff / N_k[k]\n",
        "        # symmetrize + diagonal loading\n",
        "        S_k = 0.5 * (S_k + S_k.T)\n",
        "        eye = torch.eye(model.dim, device=S_k.device, dtype=S_k.dtype)\n",
        "        S_k = S_k + (model.reg_covar + model.eps) * eye\n",
        "        sigmas.append(S_k)\n",
        "\n",
        "    model.set_params(prior=priors, mus=mus, sigmas=sigmas)\n",
        "\n",
        "\n",
        "def initialize_gmm(data: np.ndarray, K: int) -> GaussianMixtureModel:\n",
        "    N, D = data.shape\n",
        "    return GaussianMixtureModel(dim=D, K=K)\n",
        "\n",
        "\n",
        "def fit_gmm(model: GaussianMixtureModel, data: np.ndarray, limit: int = 10000, delta: float = 1e-8):\n",
        "    model.train()\n",
        "    data_t = torch.tensor(data, dtype=torch.float32, device=model.gaussians[0].mu.device)\n",
        "    history = []\n",
        "    for i in range(limit):\n",
        "        log_resp = log_responsibilities(model, data_t)\n",
        "        update_params(model, log_resp, data)\n",
        "        loss = -torch.mean(model.log_likelihood(data_t))\n",
        "        history.append(loss.item())\n",
        "        print(f\"Iteration {i}, Loss: {loss.item()}\")\n",
        "        if i > 0 and abs(history[-1] - history[-2]) < delta:\n",
        "            break\n",
        "    return model, data_t, history\n"
      ]
    },
    {
      "cell_type": "markdown",
      "metadata": {
        "id": "o2ZUEMsB7LTi"
      },
      "source": [
        "# Extracting features from the images"
      ]
    },
    {
      "cell_type": "code",
      "execution_count": 7,
      "metadata": {
        "id": "wSIvpbUa7PvU"
      },
      "outputs": [],
      "source": [
        "device = torch.device(\"cuda\" if torch.cuda.is_available() else \"cpu\")"
      ]
    },
    {
      "cell_type": "code",
      "execution_count": 8,
      "metadata": {
        "id": "qhnmXp-s7W0M"
      },
      "outputs": [],
      "source": [
        "transform = transforms.Compose([\n",
        "    transforms.Resize((64, 64)),\n",
        "    transforms.ToTensor(),\n",
        "])"
      ]
    },
    {
      "cell_type": "code",
      "execution_count": 9,
      "metadata": {
        "id": "GvFbBf-X8P5p"
      },
      "outputs": [],
      "source": [
        "data_paths = {\n",
        "    \"bombed\": \"data/bombed\",\n",
        "    \"not_bombed\": \"data/not bombed\"\n",
        "}"
      ]
    },
    {
      "cell_type": "code",
      "execution_count": 10,
      "metadata": {
        "id": "sk6Ca0ju8mWc"
      },
      "outputs": [],
      "source": [
        "def load_dataloader(path):\n",
        "    dataset = datasets.ImageFolder(root=os.path.dirname(path), transform=transform)\n",
        "    class_name = os.path.basename(path)\n",
        "    class_idx = dataset.class_to_idx[class_name]\n",
        "    indices = [i for i, (_, y) in enumerate(dataset.samples) if y == class_idx]\n",
        "    subset = torch.utils.data.Subset(dataset, indices)\n",
        "    return DataLoader(subset, batch_size=16, shuffle=True)"
      ]
    },
    {
      "cell_type": "code",
      "execution_count": 11,
      "metadata": {
        "id": "pvdISvlRI3lr"
      },
      "outputs": [],
      "source": [
        "bombed_loader = load_dataloader(data_paths[\"bombed\"])\n",
        "not_bombed_loader = load_dataloader(data_paths[\"not_bombed\"])"
      ]
    },
    {
      "cell_type": "code",
      "execution_count": 12,
      "metadata": {
        "colab": {
          "base_uri": "https://localhost:8080/"
        },
        "collapsed": true,
        "id": "Re07i8GzMD4p",
        "outputId": "541d06ac-a135-4266-d1f7-6dcb276cb688"
      },
      "outputs": [
        {
          "output_type": "stream",
          "name": "stderr",
          "text": [
            "/usr/local/lib/python3.11/dist-packages/torchvision/models/_utils.py:208: UserWarning: The parameter 'pretrained' is deprecated since 0.13 and may be removed in the future, please use 'weights' instead.\n",
            "  warnings.warn(\n",
            "/usr/local/lib/python3.11/dist-packages/torchvision/models/_utils.py:223: UserWarning: Arguments other than a weight enum or `None` for 'weights' are deprecated since 0.13 and may be removed in the future. The current behavior is equivalent to passing `weights=ResNet18_Weights.IMAGENET1K_V1`. You can also use `weights=ResNet18_Weights.DEFAULT` to get the most up-to-date weights.\n",
            "  warnings.warn(msg)\n",
            "Downloading: \"https://download.pytorch.org/models/resnet18-f37072fd.pth\" to /root/.cache/torch/hub/checkpoints/resnet18-f37072fd.pth\n",
            "100%|██████████| 44.7M/44.7M [00:00<00:00, 275MB/s]\n"
          ]
        },
        {
          "output_type": "execute_result",
          "data": {
            "text/plain": [
              "ResNet(\n",
              "  (conv1): Conv2d(3, 64, kernel_size=(7, 7), stride=(2, 2), padding=(3, 3), bias=False)\n",
              "  (bn1): BatchNorm2d(64, eps=1e-05, momentum=0.1, affine=True, track_running_stats=True)\n",
              "  (relu): ReLU(inplace=True)\n",
              "  (maxpool): MaxPool2d(kernel_size=3, stride=2, padding=1, dilation=1, ceil_mode=False)\n",
              "  (layer1): Sequential(\n",
              "    (0): BasicBlock(\n",
              "      (conv1): Conv2d(64, 64, kernel_size=(3, 3), stride=(1, 1), padding=(1, 1), bias=False)\n",
              "      (bn1): BatchNorm2d(64, eps=1e-05, momentum=0.1, affine=True, track_running_stats=True)\n",
              "      (relu): ReLU(inplace=True)\n",
              "      (conv2): Conv2d(64, 64, kernel_size=(3, 3), stride=(1, 1), padding=(1, 1), bias=False)\n",
              "      (bn2): BatchNorm2d(64, eps=1e-05, momentum=0.1, affine=True, track_running_stats=True)\n",
              "    )\n",
              "    (1): BasicBlock(\n",
              "      (conv1): Conv2d(64, 64, kernel_size=(3, 3), stride=(1, 1), padding=(1, 1), bias=False)\n",
              "      (bn1): BatchNorm2d(64, eps=1e-05, momentum=0.1, affine=True, track_running_stats=True)\n",
              "      (relu): ReLU(inplace=True)\n",
              "      (conv2): Conv2d(64, 64, kernel_size=(3, 3), stride=(1, 1), padding=(1, 1), bias=False)\n",
              "      (bn2): BatchNorm2d(64, eps=1e-05, momentum=0.1, affine=True, track_running_stats=True)\n",
              "    )\n",
              "  )\n",
              "  (layer2): Sequential(\n",
              "    (0): BasicBlock(\n",
              "      (conv1): Conv2d(64, 128, kernel_size=(3, 3), stride=(2, 2), padding=(1, 1), bias=False)\n",
              "      (bn1): BatchNorm2d(128, eps=1e-05, momentum=0.1, affine=True, track_running_stats=True)\n",
              "      (relu): ReLU(inplace=True)\n",
              "      (conv2): Conv2d(128, 128, kernel_size=(3, 3), stride=(1, 1), padding=(1, 1), bias=False)\n",
              "      (bn2): BatchNorm2d(128, eps=1e-05, momentum=0.1, affine=True, track_running_stats=True)\n",
              "      (downsample): Sequential(\n",
              "        (0): Conv2d(64, 128, kernel_size=(1, 1), stride=(2, 2), bias=False)\n",
              "        (1): BatchNorm2d(128, eps=1e-05, momentum=0.1, affine=True, track_running_stats=True)\n",
              "      )\n",
              "    )\n",
              "    (1): BasicBlock(\n",
              "      (conv1): Conv2d(128, 128, kernel_size=(3, 3), stride=(1, 1), padding=(1, 1), bias=False)\n",
              "      (bn1): BatchNorm2d(128, eps=1e-05, momentum=0.1, affine=True, track_running_stats=True)\n",
              "      (relu): ReLU(inplace=True)\n",
              "      (conv2): Conv2d(128, 128, kernel_size=(3, 3), stride=(1, 1), padding=(1, 1), bias=False)\n",
              "      (bn2): BatchNorm2d(128, eps=1e-05, momentum=0.1, affine=True, track_running_stats=True)\n",
              "    )\n",
              "  )\n",
              "  (layer3): Sequential(\n",
              "    (0): BasicBlock(\n",
              "      (conv1): Conv2d(128, 256, kernel_size=(3, 3), stride=(2, 2), padding=(1, 1), bias=False)\n",
              "      (bn1): BatchNorm2d(256, eps=1e-05, momentum=0.1, affine=True, track_running_stats=True)\n",
              "      (relu): ReLU(inplace=True)\n",
              "      (conv2): Conv2d(256, 256, kernel_size=(3, 3), stride=(1, 1), padding=(1, 1), bias=False)\n",
              "      (bn2): BatchNorm2d(256, eps=1e-05, momentum=0.1, affine=True, track_running_stats=True)\n",
              "      (downsample): Sequential(\n",
              "        (0): Conv2d(128, 256, kernel_size=(1, 1), stride=(2, 2), bias=False)\n",
              "        (1): BatchNorm2d(256, eps=1e-05, momentum=0.1, affine=True, track_running_stats=True)\n",
              "      )\n",
              "    )\n",
              "    (1): BasicBlock(\n",
              "      (conv1): Conv2d(256, 256, kernel_size=(3, 3), stride=(1, 1), padding=(1, 1), bias=False)\n",
              "      (bn1): BatchNorm2d(256, eps=1e-05, momentum=0.1, affine=True, track_running_stats=True)\n",
              "      (relu): ReLU(inplace=True)\n",
              "      (conv2): Conv2d(256, 256, kernel_size=(3, 3), stride=(1, 1), padding=(1, 1), bias=False)\n",
              "      (bn2): BatchNorm2d(256, eps=1e-05, momentum=0.1, affine=True, track_running_stats=True)\n",
              "    )\n",
              "  )\n",
              "  (layer4): Sequential(\n",
              "    (0): BasicBlock(\n",
              "      (conv1): Conv2d(256, 512, kernel_size=(3, 3), stride=(2, 2), padding=(1, 1), bias=False)\n",
              "      (bn1): BatchNorm2d(512, eps=1e-05, momentum=0.1, affine=True, track_running_stats=True)\n",
              "      (relu): ReLU(inplace=True)\n",
              "      (conv2): Conv2d(512, 512, kernel_size=(3, 3), stride=(1, 1), padding=(1, 1), bias=False)\n",
              "      (bn2): BatchNorm2d(512, eps=1e-05, momentum=0.1, affine=True, track_running_stats=True)\n",
              "      (downsample): Sequential(\n",
              "        (0): Conv2d(256, 512, kernel_size=(1, 1), stride=(2, 2), bias=False)\n",
              "        (1): BatchNorm2d(512, eps=1e-05, momentum=0.1, affine=True, track_running_stats=True)\n",
              "      )\n",
              "    )\n",
              "    (1): BasicBlock(\n",
              "      (conv1): Conv2d(512, 512, kernel_size=(3, 3), stride=(1, 1), padding=(1, 1), bias=False)\n",
              "      (bn1): BatchNorm2d(512, eps=1e-05, momentum=0.1, affine=True, track_running_stats=True)\n",
              "      (relu): ReLU(inplace=True)\n",
              "      (conv2): Conv2d(512, 512, kernel_size=(3, 3), stride=(1, 1), padding=(1, 1), bias=False)\n",
              "      (bn2): BatchNorm2d(512, eps=1e-05, momentum=0.1, affine=True, track_running_stats=True)\n",
              "    )\n",
              "  )\n",
              "  (avgpool): AdaptiveAvgPool2d(output_size=(1, 1))\n",
              "  (fc): Identity()\n",
              ")"
            ]
          },
          "metadata": {},
          "execution_count": 12
        }
      ],
      "source": [
        "resnet = torchvision.models.resnet18(pretrained=True)\n",
        "resnet.fc = nn.Identity()\n",
        "resnet.eval()\n",
        "resnet.to(\"cuda\" if torch.cuda.is_available() else \"cpu\")"
      ]
    },
    {
      "cell_type": "code",
      "execution_count": 13,
      "metadata": {
        "id": "pY-c0PUJMLkC"
      },
      "outputs": [],
      "source": [
        "def extract_features(model, dataloader, device='cpu', max_batches=None):\n",
        "    features_list = []\n",
        "    labels_list = []\n",
        "    with torch.no_grad():\n",
        "        for i, (images, labels) in enumerate(dataloader):\n",
        "            images = images.to(device)\n",
        "            feats = model(images)\n",
        "            features_list.append(feats.cpu())\n",
        "            labels_list.append(labels)\n",
        "            if max_batches and i >= max_batches:\n",
        "                break\n",
        "    return torch.cat(features_list), torch.cat(labels_list)\n",
        "\n",
        "features_bombed, labels_bombed = extract_features(resnet, bombed_loader, device=device, max_batches=100)\n",
        "features_not_bombed, labels_not_bombed = extract_features(resnet, not_bombed_loader, device=device, max_batches=100)"
      ]
    },
    {
      "cell_type": "code",
      "execution_count": 14,
      "metadata": {
        "id": "lKZOqsLmV7vO"
      },
      "outputs": [],
      "source": [
        "pca = PCA(n_components=50, svd_solver='auto')\n",
        "combined_train = np.concatenate([features_bombed, features_not_bombed], axis=0)\n",
        "pca.fit(combined_train)\n",
        "\n",
        "features_reduced = pca.transform(features_bombed)\n",
        "features_reduced_1 = pca.transform(features_not_bombed)"
      ]
    },
    {
      "cell_type": "markdown",
      "source": [
        "# Fitting the GMM"
      ],
      "metadata": {
        "id": "iXV58poJffea"
      }
    },
    {
      "cell_type": "code",
      "execution_count": 15,
      "metadata": {
        "id": "ts0SJjfJV7vO"
      },
      "outputs": [],
      "source": [
        "def dunn_index(X, labels):\n",
        "    \"\"\"\n",
        "    Compute the Dunn Index for clustering.\n",
        "\n",
        "    Parameters:\n",
        "        X : array-like, shape (n_samples, n_features)\n",
        "        labels : array-like, shape (n_samples,)\n",
        "\n",
        "    Returns:\n",
        "        float: Dunn Index.\n",
        "    \"\"\"\n",
        "    X = np.asarray(X)\n",
        "    labels = np.asarray(labels)\n",
        "    unique_labels = np.unique(labels)\n",
        "    dist_mat = pairwise_distances(X)\n",
        "\n",
        "    # intra-cluster diameters\n",
        "    diameters = []\n",
        "    for lbl in unique_labels:\n",
        "        idx = np.where(labels == lbl)[0]\n",
        "        if len(idx) <= 1:\n",
        "            diameters.append(0.0)\n",
        "        else:\n",
        "            diameters.append(np.max(dist_mat[np.ix_(idx, idx)]))\n",
        "    max_diameter = np.max(diameters)\n",
        "\n",
        "    # inter-cluster distances\n",
        "    min_inter = np.inf\n",
        "    for i, lbl_i in enumerate(unique_labels):\n",
        "        for lbl_j in unique_labels[i+1:]:\n",
        "            idx_i = np.where(labels == lbl_i)[0]\n",
        "            idx_j = np.where(labels == lbl_j)[0]\n",
        "            if idx_i.size and idx_j.size:\n",
        "                dists = dist_mat[np.ix_(idx_i, idx_j)]\n",
        "                min_inter = min(min_inter, np.min(dists))\n",
        "\n",
        "    return min_inter / max_diameter\n",
        "\n",
        "def evaluate_gmm(X, labels):\n",
        "    \"\"\"\n",
        "    Compute common clustering evaluation metrics for a GMM.\n",
        "\n",
        "    Parameters:\n",
        "        X : array-like, shape (n_samples, n_features)\n",
        "        labels : array-like, shape (n_samples,)\n",
        "\n",
        "    Returns:\n",
        "        dict: {\n",
        "            'silhouette': float,\n",
        "            'davies_bouldin': float,\n",
        "            'calinski_harabasz': float,\n",
        "            'dunn': float\n",
        "        }\n",
        "    \"\"\"\n",
        "    X = np.asarray(X)\n",
        "    labels = np.asarray(labels)\n",
        "    scores = {}\n",
        "    scores['silhouette'] = silhouette_score(X, labels)\n",
        "    scores['davies_bouldin'] = davies_bouldin_score(X, labels)\n",
        "    scores['calinski_harabasz'] = calinski_harabasz_score(X, labels)\n",
        "    scores['dunn'] = dunn_index(X, labels)\n",
        "    return scores"
      ]
    },
    {
      "cell_type": "code",
      "execution_count": 16,
      "metadata": {
        "id": "HOgCHx1UV7vO"
      },
      "outputs": [],
      "source": [
        "# # elbow method\n",
        "# def elbow_method(X, max_k=10):\n",
        "#     \"\"\"\n",
        "#     Compute the elbow method for GMM.\n",
        "\n",
        "#     Parameters:\n",
        "#         X : array-like, shape (n_samples, n_features)\n",
        "#         max_k : int, maximum number of clusters to consider\n",
        "#     \"\"\"\n",
        "#     X = np.asarray(X)\n",
        "#     scores = []\n",
        "#     for k in range(1, max_k + 1):\n",
        "#         gmm = GaussianMixtureModel(dim=X.shape[1], K=k)\n",
        "#         gmm, _, _ = fit_gmm(gmm, X)\n",
        "#         log_likelihood = gmm.log_likelihood(torch.tensor(X, dtype=torch.float32))\n",
        "#         scores.append(log_likelihood.mean().item())\n",
        "#     return scores\n",
        "# def plot_elbow(scores, max_k=10):\n",
        "#     \"\"\"\n",
        "#     Plot the elbow method results.\n",
        "#     \"\"\"\n",
        "#     plt.figure(figsize=(8, 6))\n",
        "#     plt.plot(range(1, max_k + 1), scores, marker='o')\n",
        "#     plt.title('Elbow Method for Optimal k')\n",
        "#     plt.xlabel('Number of clusters (k)')\n",
        "#     plt.ylabel('Log Likelihood')\n",
        "#     plt.grid()\n",
        "#     plt.show()\n",
        "# scores = elbow_method(features_reduced, max_k=10)\n",
        "# plot_elbow(scores, max_k=10)"
      ]
    },
    {
      "cell_type": "code",
      "execution_count": 17,
      "metadata": {
        "id": "oOJkqF6hV7vP"
      },
      "outputs": [],
      "source": [
        "# # BIC and AIC for different k\n",
        "# def bic_aic(X, max_k=10):\n",
        "#     \"\"\"\n",
        "#     Compute BIC and AIC for GMM.\n",
        "\n",
        "#     Parameters:\n",
        "#         X : array-like, shape (n_samples, n_features)\n",
        "#         max_k : int, maximum number of clusters to consider\n",
        "#     \"\"\"\n",
        "#     X = np.asarray(X)\n",
        "#     bic_scores = []\n",
        "#     aic_scores = []\n",
        "#     for k in range(1, max_k + 1):\n",
        "#         gmm = GaussianMixtureModel(dim=X.shape[1], K=k)\n",
        "#         gmm, _, _ = fit_gmm(gmm, X)\n",
        "#         log_likelihood = gmm.log_likelihood(torch.tensor(X, dtype=torch.float32))\n",
        "#         n_params = k * (X.shape[1] + 1) + k * (X.shape[1] * (X.shape[1] + 1)) / 2\n",
        "#         bic = -2 * log_likelihood.mean().item() + n_params * np.log(X.shape[0])\n",
        "#         aic = -2 * log_likelihood.mean().item() + 2 * n_params\n",
        "#         bic_scores.append(bic)\n",
        "#         aic_scores.append(aic)\n",
        "#     return bic_scores, aic_scores\n",
        "# def plot_bic_aic(bic_scores, aic_scores, max_k=10):\n",
        "#     \"\"\"\n",
        "#     Plot BIC and AIC scores.\n",
        "#     \"\"\"\n",
        "#     plt.figure(figsize=(8, 6))\n",
        "#     plt.plot(range(1, max_k + 1), bic_scores, marker='o', label='BIC')\n",
        "#     plt.plot(range(1, max_k + 1), aic_scores, marker='o', label='AIC')\n",
        "#     plt.title('BIC and AIC for GMM')\n",
        "#     plt.xlabel('Number of clusters (k)')\n",
        "#     plt.ylabel('Score')\n",
        "#     plt.legend()\n",
        "#     plt.grid()\n",
        "#     plt.show()\n",
        "# bic_scores, aic_scores = bic_aic(features_reduced, max_k=10)\n",
        "# plot_bic_aic(bic_scores, aic_scores, max_k=10)"
      ]
    },
    {
      "cell_type": "markdown",
      "source": [
        "Firstly, let's fit the gmm for the bombed class."
      ],
      "metadata": {
        "id": "uZghJFhBf0lb"
      }
    },
    {
      "cell_type": "code",
      "execution_count": 19,
      "metadata": {
        "colab": {
          "base_uri": "https://localhost:8080/"
        },
        "id": "fU9wolMAV7vP",
        "outputId": "e28f2f31-3005-4c6c-e639-f6019b96c642"
      },
      "outputs": [
        {
          "output_type": "stream",
          "name": "stdout",
          "text": [
            "Iteration 0, Loss: 57.88187026977539\n",
            "Iteration 1, Loss: 56.81999969482422\n",
            "Iteration 2, Loss: 56.071102142333984\n",
            "Iteration 3, Loss: 55.39671325683594\n",
            "Iteration 4, Loss: 55.08717346191406\n",
            "Iteration 5, Loss: 54.75975799560547\n",
            "Iteration 6, Loss: 54.41167449951172\n",
            "Iteration 7, Loss: 54.174556732177734\n",
            "Iteration 8, Loss: 54.144996643066406\n",
            "Iteration 9, Loss: 54.14495086669922\n",
            "Iteration 10, Loss: 54.14493942260742\n",
            "Iteration 11, Loss: 54.144927978515625\n",
            "Iteration 12, Loss: 54.144866943359375\n",
            "Iteration 13, Loss: 54.14313888549805\n",
            "Iteration 14, Loss: 54.10496139526367\n",
            "Iteration 15, Loss: 54.09824752807617\n",
            "Iteration 16, Loss: 54.09251022338867\n",
            "Iteration 17, Loss: 54.036231994628906\n",
            "Iteration 18, Loss: 54.00937271118164\n",
            "Iteration 19, Loss: 54.00047302246094\n",
            "Iteration 20, Loss: 53.93283462524414\n",
            "Iteration 21, Loss: 53.93240737915039\n",
            "Iteration 22, Loss: 53.93240737915039\n",
            "Number of clusters: 2\n",
            "Silhouette: 0.22640544176101685\n",
            "Davies-Bouldin: 1.8068260788014583\n",
            "Calinski-Harabasz: 147.96719360351562\n",
            "Dunn: 0.12191106379032135\n"
          ]
        }
      ],
      "source": [
        "K = 2\n",
        "indices = np.random.choice(len(features_bombed), K, replace=False)\n",
        "sample_points = features_reduced[indices]\n",
        "gmm_bombed = initialize_gmm(features_reduced, K=K)\n",
        "\n",
        "D = features_reduced.shape[1]\n",
        "I = np.eye(D, dtype=np.float32)\n",
        "init_S = [I for _ in range(K)]\n",
        "gmm_bombed.set_params(mus=sample_points, sigmas=init_S)\n",
        "\n",
        "gmm_bombed, X_tensor, em_hist = fit_gmm(gmm_bombed, features_reduced)\n",
        "\n",
        "X_np = X_tensor.numpy() # shape (n_samples, n_features)\n",
        "labels = gmm_bombed.predict(X_tensor).cpu().numpy()\n",
        "metrics = evaluate_gmm(X_np, labels)\n",
        "print(f\"Number of clusters: {K}\")\n",
        "print(f\"Silhouette: {metrics['silhouette']}\")\n",
        "print(f\"Davies-Bouldin: {metrics['davies_bouldin']}\")\n",
        "print(f\"Calinski-Harabasz: {metrics['calinski_harabasz']}\")\n",
        "print(f\"Dunn: {metrics['dunn']}\")"
      ]
    },
    {
      "cell_type": "code",
      "execution_count": 20,
      "metadata": {
        "id": "xQNBwH0PV7vP"
      },
      "outputs": [],
      "source": [
        "X = np.asarray(features_reduced, dtype=np.float32)\n",
        "\n",
        "# 1.2 Check for bad values\n",
        "assert np.isfinite(X).all(), \"X contains NaN or infinite values\"\n",
        "\n",
        "# 1.3 Flatten your labels\n",
        "labels = np.asarray(labels).ravel()\n",
        "assert labels.shape[0] == X.shape[0]"
      ]
    },
    {
      "cell_type": "code",
      "execution_count": 21,
      "metadata": {
        "colab": {
          "base_uri": "https://localhost:8080/",
          "height": 1000,
          "referenced_widgets": [
            "9cd73ce79d14441fb52ae17d5867831d",
            "58839c684321453699663c079e315136",
            "4b6a8d1490a2418d969f3dd951df0401",
            "b8353476d50747a38306d0c52eb5ee8a",
            "3e86859401234eb39304d432aaa7704b",
            "177b80f9e2b84af291e490cae5eb4689",
            "748aa323bb014caeadfb104b95019007",
            "d1abc21553eb4fcda0082b50fc985166",
            "d1f7354895674f6fa85c2c7ff43e0a94",
            "05a0da0712e64d6f969f31319f0a12b3",
            "fea0349a0ae84b109c426d8ad7b872cf"
          ]
        },
        "id": "rASa80ELV7vP",
        "outputId": "05bb730f-57a4-4017-b3f7-9b0285c6833f"
      },
      "outputs": [
        {
          "output_type": "stream",
          "name": "stderr",
          "text": [
            "/usr/local/lib/python3.11/dist-packages/sklearn/utils/deprecation.py:151: FutureWarning: 'force_all_finite' was renamed to 'ensure_all_finite' in 1.6 and will be removed in 1.8.\n",
            "  warnings.warn(\n",
            "/usr/local/lib/python3.11/dist-packages/umap/umap_.py:1952: UserWarning: n_jobs value 1 overridden to 1 by setting random_state. Use no seed for parallelism.\n",
            "  warn(\n"
          ]
        },
        {
          "output_type": "stream",
          "name": "stdout",
          "text": [
            "UMAP(n_jobs=1, n_neighbors=100, random_state=42, verbose=True)\n",
            "Wed May  7 16:36:52 2025 Construct fuzzy simplicial set\n",
            "Wed May  7 16:36:52 2025 Finding Nearest Neighbors\n",
            "Wed May  7 16:36:52 2025 Finished Nearest Neighbor Search\n",
            "Wed May  7 16:36:52 2025 Construct embedding\n"
          ]
        },
        {
          "output_type": "display_data",
          "data": {
            "text/plain": [
              "Epochs completed:   0%|            0/500 [00:00]"
            ],
            "application/vnd.jupyter.widget-view+json": {
              "version_major": 2,
              "version_minor": 0,
              "model_id": "9cd73ce79d14441fb52ae17d5867831d"
            }
          },
          "metadata": {}
        },
        {
          "output_type": "stream",
          "name": "stdout",
          "text": [
            "\tcompleted  0  /  500 epochs\n",
            "\tcompleted  50  /  500 epochs\n",
            "\tcompleted  100  /  500 epochs\n",
            "\tcompleted  150  /  500 epochs\n",
            "\tcompleted  200  /  500 epochs\n",
            "\tcompleted  250  /  500 epochs\n",
            "\tcompleted  300  /  500 epochs\n",
            "\tcompleted  350  /  500 epochs\n",
            "\tcompleted  400  /  500 epochs\n",
            "\tcompleted  450  /  500 epochs\n",
            "Wed May  7 16:36:54 2025 Finished embedding\n"
          ]
        },
        {
          "output_type": "display_data",
          "data": {
            "text/plain": [
              "<Figure size 800x600 with 2 Axes>"
            ],
            "image/png": "[encoded data removed]"
          },
          "metadata": {}
        }
      ],
      "source": [
        "def plot_umap(X, labels, title=None,\n",
        "              n_neighbors=15, min_dist=0.1, metric='euclidean',\n",
        "              random_state=42):\n",
        "    \"\"\"\n",
        "    Plot the 2D UMAP embedding of X, colored by labels.\n",
        "\n",
        "    Parameters:\n",
        "        X : array-like, shape (n_samples, n_features)\n",
        "        labels : array-like, shape (n_samples,)\n",
        "        title : str, optional\n",
        "        n_neighbors : int, how many neighbors UMAP uses (balances local/global)\n",
        "        min_dist : float, how tightly UMAP packs points (0.0–1.0)\n",
        "        metric : str or callable, distance metric\n",
        "        random_state : int, reproducibility seed\n",
        "    \"\"\"\n",
        "    # 1) clean inputs\n",
        "    X = np.asarray(X, dtype=np.float32)\n",
        "    if not np.isfinite(X).all():\n",
        "        raise ValueError(\"Input X contains NaN or infinite values\")\n",
        "    labels = np.asarray(labels).ravel()\n",
        "    if labels.shape[0] != X.shape[0]:\n",
        "        raise ValueError(\"labels length must match number of samples\")\n",
        "\n",
        "    # 2) embed\n",
        "    reducer = umap.UMAP(\n",
        "        n_neighbors=n_neighbors,\n",
        "        min_dist=min_dist,\n",
        "        n_components=2,\n",
        "        metric=metric,\n",
        "        random_state=random_state,\n",
        "        verbose=True\n",
        "    )\n",
        "    embedding = reducer.fit_transform(X)\n",
        "\n",
        "    # 3) plot\n",
        "    plt.figure(figsize=(8, 6))\n",
        "    sc = plt.scatter(\n",
        "        embedding[:, 0], embedding[:, 1],\n",
        "        c=labels, cmap='Spectral', s=10, alpha=0.8\n",
        "    )\n",
        "    plt.title(title or \"UMAP Projection\")\n",
        "    plt.colorbar(sc, label=\"Cluster label\")\n",
        "    plt.xlabel(\"UMAP 1\")\n",
        "    plt.ylabel(\"UMAP 2\")\n",
        "    plt.tight_layout()\n",
        "    plt.show()\n",
        "plot_umap(X, labels, title=\"UMAP Projection of GMM Clusters\", n_neighbors=100, min_dist=0.1, metric='euclidean', random_state=42)"
      ]
    },
    {
      "cell_type": "code",
      "source": [
        "K = 1\n",
        "\n",
        "sample_mean = np.mean(features_reduced_1, axis=0, keepdims=True)\n",
        "sample_std = np.std(features_reduced_1, axis=0, keepdims=True)\n",
        "\n",
        "gmm_not_bombed = initialize_gmm(features_reduced_1, K=K)\n",
        "\n",
        "D = features_reduced_1.shape[1]\n",
        "cov_matrix = np.diagflat(sample_std[0]**2).astype(np.float32)\n",
        "init_S = [cov_matrix for _ in range(K)]\n",
        "\n",
        "gmm_not_bombed.set_params(mus=sample_mean.astype(np.float32), sigmas=init_S)\n",
        "\n",
        "gmm_not_bombed, X_tensor, em_hist = fit_gmm(gmm_not_bombed, features_reduced_1)"
      ],
      "metadata": {
        "colab": {
          "base_uri": "https://localhost:8080/"
        },
        "id": "g3mEygkCZSy7",
        "outputId": "905b88cd-3d6e-4ef6-fd44-fe74bf438c8d"
      },
      "execution_count": 22,
      "outputs": [
        {
          "output_type": "stream",
          "name": "stdout",
          "text": [
            "Iteration 0, Loss: 60.040767669677734\n",
            "Iteration 1, Loss: 60.040767669677734\n"
          ]
        }
      ]
    },
    {
      "cell_type": "markdown",
      "source": [
        "# Testing for real data"
      ],
      "metadata": {
        "id": "5Fe106zmaj6S"
      }
    },
    {
      "cell_type": "markdown",
      "source": [
        "Let's upload the generated data:"
      ],
      "metadata": {
        "id": "d_R7TtGVairT"
      }
    },
    {
      "cell_type": "code",
      "source": [
        "with zipfile.ZipFile(\"/content/generated_data.zip\", 'r') as zip_ref:\n",
        "    zip_ref.extractall(\"generated_data\")"
      ],
      "metadata": {
        "id": "zSlj-lZoamR9"
      },
      "execution_count": 23,
      "outputs": []
    },
    {
      "cell_type": "code",
      "source": [
        "data_paths = {\n",
        "    \"bombed\": \"generated_data/generated_data/bombed\",\n",
        "    \"not_bombed\": \"generated_data/generated_data/not_bombed\"\n",
        "}"
      ],
      "metadata": {
        "id": "G1lz2xFOauJ6"
      },
      "execution_count": 24,
      "outputs": []
    },
    {
      "cell_type": "code",
      "source": [
        "gen_bombed_loader = load_dataloader(data_paths[\"bombed\"])\n",
        "gen_not_bombed_loader = load_dataloader(data_paths[\"not_bombed\"])"
      ],
      "metadata": {
        "id": "AK0K4WTRavgq"
      },
      "execution_count": 25,
      "outputs": []
    },
    {
      "cell_type": "code",
      "source": [
        "features_gen_bombed, labels_bombed = extract_features(resnet, gen_bombed_loader, device=device, max_batches=100)\n",
        "features_gen_not_bombed, labels_not_bombed = extract_features(resnet, gen_not_bombed_loader, device=device, max_batches=100)"
      ],
      "metadata": {
        "id": "R3ArFQ4daw5U"
      },
      "execution_count": 26,
      "outputs": []
    },
    {
      "cell_type": "code",
      "source": [
        "generated_reduced = pca.transform(features_gen_bombed)\n",
        "generated_reduced_1 = pca.transform(features_gen_not_bombed)"
      ],
      "metadata": {
        "id": "dinn7Oh3cPcf"
      },
      "execution_count": 27,
      "outputs": []
    },
    {
      "cell_type": "code",
      "source": [
        "def mahalanobis_distances(point: np.ndarray, gmm: GaussianMixtureModel) -> torch.Tensor:\n",
        "    point = torch.tensor(point, dtype=torch.float32, device=gmm.gaussians[0].mu.device)\n",
        "    distances = []\n",
        "    for i in range(gmm.K):\n",
        "        gaussian = gmm.gaussians[i]\n",
        "        mu = gaussian.mu\n",
        "        cov = gaussian.Sigma()\n",
        "        cov = (cov + cov.T) / 2  # enforce symmetry\n",
        "        cov += (gmm.reg_covar + gmm.eps) * torch.eye(gmm.dim, device=cov.device)\n",
        "\n",
        "        cov_inv = torch.linalg.inv(cov)\n",
        "        diff = point - mu\n",
        "        dist = torch.sqrt(diff @ cov_inv @ diff)\n",
        "        distances.append(dist)\n",
        "    return torch.stack(distances)"
      ],
      "metadata": {
        "id": "Yoqog_Htayyo"
      },
      "execution_count": 28,
      "outputs": []
    },
    {
      "cell_type": "code",
      "source": [
        "true_predict = 0\n",
        "differences = []\n",
        "\n",
        "for point in generated_reduced:\n",
        "\n",
        "  distances_bombed = mahalanobis_distances(point, gmm_bombed)\n",
        "  distances_not_bombed = mahalanobis_distances(point, gmm_not_bombed)\n",
        "\n",
        "  min_dist_bombed = torch.min(distances_bombed)\n",
        "  min_dist_not_bombed = torch.min(distances_not_bombed)\n",
        "\n",
        "  predicted_bombed = min_dist_bombed < min_dist_not_bombed\n",
        "\n",
        "  if predicted_bombed:\n",
        "     true_predict += 1\n",
        "\n",
        "n = len(features_gen_bombed.numpy())\n",
        "print(f\"Mahalanobis accuracy: {100 * true_predict / n:.2f}%\")"
      ],
      "metadata": {
        "colab": {
          "base_uri": "https://localhost:8080/"
        },
        "id": "a-DSVgGla0xJ",
        "outputId": "d2ccb190-334b-4df7-cad4-f8ec86e7648d"
      },
      "execution_count": 29,
      "outputs": [
        {
          "output_type": "stream",
          "name": "stdout",
          "text": [
            "Mahalanobis accuracy: 78.57%\n"
          ]
        }
      ]
    },
    {
      "cell_type": "code",
      "source": [
        "true_predict = 0\n",
        "differences = []\n",
        "\n",
        "for point in generated_reduced_1:\n",
        "  distances_bombed = mahalanobis_distances(point, gmm_bombed)\n",
        "  distances_not_bombed = mahalanobis_distances(point, gmm_not_bombed)\n",
        "\n",
        "  min_dist_bombed = torch.min(distances_bombed)\n",
        "  min_dist_not_bombed = torch.min(distances_not_bombed)\n",
        "\n",
        "  predicted_not_bombed = min_dist_not_bombed < min_dist_bombed\n",
        "\n",
        "  if predicted_not_bombed:\n",
        "     true_predict += 1\n",
        "\n",
        "n = len(features_gen_not_bombed.numpy())\n",
        "print(f\"Mahalanobis accuracy: {100 * true_predict / n:.2f}%\")"
      ],
      "metadata": {
        "colab": {
          "base_uri": "https://localhost:8080/"
        },
        "id": "FS3eTpFla4rr",
        "outputId": "a774828f-5e79-44ac-d5f0-303e9d610923"
      },
      "execution_count": 30,
      "outputs": [
        {
          "output_type": "stream",
          "name": "stdout",
          "text": [
            "Mahalanobis accuracy: 10.65%\n"
          ]
        }
      ]
    }
  ],
  "metadata": {
    "colab": {
      "provenance": [],
      "collapsed_sections": [
        "NKsrFucR1wyo"
      ]
    },
    "kernelspec": {
      "display_name": ".venv",
      "language": "python",
      "name": "python3"
    },
    "language_info": {
      "codemirror_mode": {
        "name": "ipython",
        "version": 3
      },
      "file_extension": ".py",
      "mimetype": "text/x-python",
      "name": "python",
      "nbconvert_exporter": "python",
      "pygments_lexer": "ipython3",
      "version": "3.12.7"
    },
    "widgets": {
      "application/vnd.jupyter.widget-state+json": {
        "9cd73ce79d14441fb52ae17d5867831d": {
          "model_module": "@jupyter-widgets/controls",
          "model_name": "HBoxModel",
          "model_module_version": "1.5.0",
          "state": {
            "_dom_classes": [],
            "_model_module": "@jupyter-widgets/controls",
            "_model_module_version": "1.5.0",
            "_model_name": "HBoxModel",
            "_view_count": null,
            "_view_module": "@jupyter-widgets/controls",
            "_view_module_version": "1.5.0",
            "_view_name": "HBoxView",
            "box_style": "",
            "children": [
              "IPY_MODEL_58839c684321453699663c079e315136",
              "IPY_MODEL_4b6a8d1490a2418d969f3dd951df0401",
              "IPY_MODEL_b8353476d50747a38306d0c52eb5ee8a"
            ],
            "layout": "IPY_MODEL_3e86859401234eb39304d432aaa7704b"
          }
        },
        "58839c684321453699663c079e315136": {
          "model_module": "@jupyter-widgets/controls",
          "model_name": "HTMLModel",
          "model_module_version": "1.5.0",
          "state": {
            "_dom_classes": [],
            "_model_module": "@jupyter-widgets/controls",
            "_model_module_version": "1.5.0",
            "_model_name": "HTMLModel",
            "_view_count": null,
            "_view_module": "@jupyter-widgets/controls",
            "_view_module_version": "1.5.0",
            "_view_name": "HTMLView",
            "description": "",
            "description_tooltip": null,
            "layout": "IPY_MODEL_177b80f9e2b84af291e490cae5eb4689",
            "placeholder": "​",
            "style": "IPY_MODEL_748aa323bb014caeadfb104b95019007",
            "value": "Epochs completed: 100%| "
          }
        },
        "4b6a8d1490a2418d969f3dd951df0401": {
          "model_module": "@jupyter-widgets/controls",
          "model_name": "FloatProgressModel",
          "model_module_version": "1.5.0",
          "state": {
            "_dom_classes": [],
            "_model_module": "@jupyter-widgets/controls",
            "_model_module_version": "1.5.0",
            "_model_name": "FloatProgressModel",
            "_view_count": null,
            "_view_module": "@jupyter-widgets/controls",
            "_view_module_version": "1.5.0",
            "_view_name": "ProgressView",
            "bar_style": "success",
            "description": "",
            "description_tooltip": null,
            "layout": "IPY_MODEL_d1abc21553eb4fcda0082b50fc985166",
            "max": 500,
            "min": 0,
            "orientation": "horizontal",
            "style": "IPY_MODEL_d1f7354895674f6fa85c2c7ff43e0a94",
            "value": 500
          }
        },
        "b8353476d50747a38306d0c52eb5ee8a": {
          "model_module": "@jupyter-widgets/controls",
          "model_name": "HTMLModel",
          "model_module_version": "1.5.0",
          "state": {
            "_dom_classes": [],
            "_model_module": "@jupyter-widgets/controls",
            "_model_module_version": "1.5.0",
            "_model_name": "HTMLModel",
            "_view_count": null,
            "_view_module": "@jupyter-widgets/controls",
            "_view_module_version": "1.5.0",
            "_view_name": "HTMLView",
            "description": "",
            "description_tooltip": null,
            "layout": "IPY_MODEL_05a0da0712e64d6f969f31319f0a12b3",
            "placeholder": "​",
            "style": "IPY_MODEL_fea0349a0ae84b109c426d8ad7b872cf",
            "value": " 500/500 [00:01]"
          }
        },
        "3e86859401234eb39304d432aaa7704b": {
          "model_module": "@jupyter-widgets/base",
          "model_name": "LayoutModel",
          "model_module_version": "1.2.0",
          "state": {
            "_model_module": "@jupyter-widgets/base",
            "_model_module_version": "1.2.0",
            "_model_name": "LayoutModel",
            "_view_count": null,
            "_view_module": "@jupyter-widgets/base",
            "_view_module_version": "1.2.0",
            "_view_name": "LayoutView",
            "align_content": null,
            "align_items": null,
            "align_self": null,
            "border": null,
            "bottom": null,
            "display": null,
            "flex": null,
            "flex_flow": null,
            "grid_area": null,
            "grid_auto_columns": null,
            "grid_auto_flow": null,
            "grid_auto_rows": null,
            "grid_column": null,
            "grid_gap": null,
            "grid_row": null,
            "grid_template_areas": null,
            "grid_template_columns": null,
            "grid_template_rows": null,
            "height": null,
            "justify_content": null,
            "justify_items": null,
            "left": null,
            "margin": null,
            "max_height": null,
            "max_width": null,
            "min_height": null,
            "min_width": null,
            "object_fit": null,
            "object_position": null,
            "order": null,
            "overflow": null,
            "overflow_x": null,
            "overflow_y": null,
            "padding": null,
            "right": null,
            "top": null,
            "visibility": null,
            "width": null
          }
        },
        "177b80f9e2b84af291e490cae5eb4689": {
          "model_module": "@jupyter-widgets/base",
          "model_name": "LayoutModel",
          "model_module_version": "1.2.0",
          "state": {
            "_model_module": "@jupyter-widgets/base",
            "_model_module_version": "1.2.0",
            "_model_name": "LayoutModel",
            "_view_count": null,
            "_view_module": "@jupyter-widgets/base",
            "_view_module_version": "1.2.0",
            "_view_name": "LayoutView",
            "align_content": null,
            "align_items": null,
            "align_self": null,
            "border": null,
            "bottom": null,
            "display": null,
            "flex": null,
            "flex_flow": null,
            "grid_area": null,
            "grid_auto_columns": null,
            "grid_auto_flow": null,
            "grid_auto_rows": null,
            "grid_column": null,
            "grid_gap": null,
            "grid_row": null,
            "grid_template_areas": null,
            "grid_template_columns": null,
            "grid_template_rows": null,
            "height": null,
            "justify_content": null,
            "justify_items": null,
            "left": null,
            "margin": null,
            "max_height": null,
            "max_width": null,
            "min_height": null,
            "min_width": null,
            "object_fit": null,
            "object_position": null,
            "order": null,
            "overflow": null,
            "overflow_x": null,
            "overflow_y": null,
            "padding": null,
            "right": null,
            "top": null,
            "visibility": null,
            "width": null
          }
        },
        "748aa323bb014caeadfb104b95019007": {
          "model_module": "@jupyter-widgets/controls",
          "model_name": "DescriptionStyleModel",
          "model_module_version": "1.5.0",
          "state": {
            "_model_module": "@jupyter-widgets/controls",
            "_model_module_version": "1.5.0",
            "_model_name": "DescriptionStyleModel",
            "_view_count": null,
            "_view_module": "@jupyter-widgets/base",
            "_view_module_version": "1.2.0",
            "_view_name": "StyleView",
            "description_width": ""
          }
        },
        "d1abc21553eb4fcda0082b50fc985166": {
          "model_module": "@jupyter-widgets/base",
          "model_name": "LayoutModel",
          "model_module_version": "1.2.0",
          "state": {
            "_model_module": "@jupyter-widgets/base",
            "_model_module_version": "1.2.0",
            "_model_name": "LayoutModel",
            "_view_count": null,
            "_view_module": "@jupyter-widgets/base",
            "_view_module_version": "1.2.0",
            "_view_name": "LayoutView",
            "align_content": null,
            "align_items": null,
            "align_self": null,
            "border": null,
            "bottom": null,
            "display": null,
            "flex": null,
            "flex_flow": null,
            "grid_area": null,
            "grid_auto_columns": null,
            "grid_auto_flow": null,
            "grid_auto_rows": null,
            "grid_column": null,
            "grid_gap": null,
            "grid_row": null,
            "grid_template_areas": null,
            "grid_template_columns": null,
            "grid_template_rows": null,
            "height": null,
            "justify_content": null,
            "justify_items": null,
            "left": null,
            "margin": null,
            "max_height": null,
            "max_width": null,
            "min_height": null,
            "min_width": null,
            "object_fit": null,
            "object_position": null,
            "order": null,
            "overflow": null,
            "overflow_x": null,
            "overflow_y": null,
            "padding": null,
            "right": null,
            "top": null,
            "visibility": null,
            "width": null
          }
        },
        "d1f7354895674f6fa85c2c7ff43e0a94": {
          "model_module": "@jupyter-widgets/controls",
          "model_name": "ProgressStyleModel",
          "model_module_version": "1.5.0",
          "state": {
            "_model_module": "@jupyter-widgets/controls",
            "_model_module_version": "1.5.0",
            "_model_name": "ProgressStyleModel",
            "_view_count": null,
            "_view_module": "@jupyter-widgets/base",
            "_view_module_version": "1.2.0",
            "_view_name": "StyleView",
            "bar_color": null,
            "description_width": ""
          }
        },
        "05a0da0712e64d6f969f31319f0a12b3": {
          "model_module": "@jupyter-widgets/base",
          "model_name": "LayoutModel",
          "model_module_version": "1.2.0",
          "state": {
            "_model_module": "@jupyter-widgets/base",
            "_model_module_version": "1.2.0",
            "_model_name": "LayoutModel",
            "_view_count": null,
            "_view_module": "@jupyter-widgets/base",
            "_view_module_version": "1.2.0",
            "_view_name": "LayoutView",
            "align_content": null,
            "align_items": null,
            "align_self": null,
            "border": null,
            "bottom": null,
            "display": null,
            "flex": null,
            "flex_flow": null,
            "grid_area": null,
            "grid_auto_columns": null,
            "grid_auto_flow": null,
            "grid_auto_rows": null,
            "grid_column": null,
            "grid_gap": null,
            "grid_row": null,
            "grid_template_areas": null,
            "grid_template_columns": null,
            "grid_template_rows": null,
            "height": null,
            "justify_content": null,
            "justify_items": null,
            "left": null,
            "margin": null,
            "max_height": null,
            "max_width": null,
            "min_height": null,
            "min_width": null,
            "object_fit": null,
            "object_position": null,
            "order": null,
            "overflow": null,
            "overflow_x": null,
            "overflow_y": null,
            "padding": null,
            "right": null,
            "top": null,
            "visibility": null,
            "width": null
          }
        },
        "fea0349a0ae84b109c426d8ad7b872cf": {
          "model_module": "@jupyter-widgets/controls",
          "model_name": "DescriptionStyleModel",
          "model_module_version": "1.5.0",
          "state": {
            "_model_module": "@jupyter-widgets/controls",
            "_model_module_version": "1.5.0",
            "_model_name": "DescriptionStyleModel",
            "_view_count": null,
            "_view_module": "@jupyter-widgets/base",
            "_view_module_version": "1.2.0",
            "_view_name": "StyleView",
            "description_width": ""
          }
        }
      }
    }
  },
  "nbformat": 4,
  "nbformat_minor": 0
}